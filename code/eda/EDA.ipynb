{
 "cells": [
  {
   "cell_type": "markdown",
   "metadata": {},
   "source": [
    "# Exploratory Data Analysis (Andreas/ Crow)"
   ]
  },
  {
   "cell_type": "code",
   "execution_count": 1,
   "metadata": {},
   "outputs": [],
   "source": [
    "# Importing packages\n",
    "import math as math\n",
    "import numpy as np\n",
    "import pandas as pd\n",
    "from pandas import ExcelWriter\n",
    "from pandas import ExcelFile\n",
    "import matplotlib.pyplot as plt\n",
    "import scipy.stats as stats\n",
    "from sklearn import datasets, linear_model, metrics\n",
    "import seaborn as sns\n",
    "plt.style.use('seaborn')\n",
    "import statsmodels.api as sm\n",
    "from statsmodels.formula.api import ols"
   ]
  },
  {
   "cell_type": "code",
   "execution_count": 6,
   "metadata": {},
   "outputs": [
    {
     "data": {
      "text/html": [
       "<div>\n",
       "<style scoped>\n",
       "    .dataframe tbody tr th:only-of-type {\n",
       "        vertical-align: middle;\n",
       "    }\n",
       "\n",
       "    .dataframe tbody tr th {\n",
       "        vertical-align: top;\n",
       "    }\n",
       "\n",
       "    .dataframe thead th {\n",
       "        text-align: right;\n",
       "    }\n",
       "</style>\n",
       "<table border=\"1\" class=\"dataframe\">\n",
       "  <thead>\n",
       "    <tr style=\"text-align: right;\">\n",
       "      <th></th>\n",
       "      <th>title</th>\n",
       "      <th>year</th>\n",
       "      <th>genres</th>\n",
       "      <th>avg rating</th>\n",
       "      <th>rating</th>\n",
       "      <th>tags</th>\n",
       "    </tr>\n",
       "  </thead>\n",
       "  <tbody>\n",
       "    <tr>\n",
       "      <th>0</th>\n",
       "      <td>Trip to the Moon, A (Voyage dans la lune, Le)</td>\n",
       "      <td>1902</td>\n",
       "      <td>Action</td>\n",
       "      <td>3.50</td>\n",
       "      <td>3.5|4.5|3.0|3.5|3.0</td>\n",
       "      <td>NaN</td>\n",
       "    </tr>\n",
       "    <tr>\n",
       "      <th>1</th>\n",
       "      <td>The Great Train Robbery</td>\n",
       "      <td>1903</td>\n",
       "      <td>Crime</td>\n",
       "      <td>2.50</td>\n",
       "      <td>4.0|1.0</td>\n",
       "      <td>NaN</td>\n",
       "    </tr>\n",
       "    <tr>\n",
       "      <th>2</th>\n",
       "      <td>The Electric Hotel</td>\n",
       "      <td>1908</td>\n",
       "      <td>Animation</td>\n",
       "      <td>4.00</td>\n",
       "      <td>4</td>\n",
       "      <td>NaN</td>\n",
       "    </tr>\n",
       "    <tr>\n",
       "      <th>3</th>\n",
       "      <td>Birth of a Nation, The</td>\n",
       "      <td>1915</td>\n",
       "      <td>Drama</td>\n",
       "      <td>2.00</td>\n",
       "      <td>2</td>\n",
       "      <td>NaN</td>\n",
       "    </tr>\n",
       "    <tr>\n",
       "      <th>4</th>\n",
       "      <td>20,000 Leagues Under the Sea</td>\n",
       "      <td>1916</td>\n",
       "      <td>Action</td>\n",
       "      <td>3.75</td>\n",
       "      <td>4.0|3.5</td>\n",
       "      <td>NaN</td>\n",
       "    </tr>\n",
       "  </tbody>\n",
       "</table>\n",
       "</div>"
      ],
      "text/plain": [
       "                                           title  year     genres  avg rating  \\\n",
       "0  Trip to the Moon, A (Voyage dans la lune, Le)  1902     Action        3.50   \n",
       "1                        The Great Train Robbery  1903      Crime        2.50   \n",
       "2                             The Electric Hotel  1908  Animation        4.00   \n",
       "3                         Birth of a Nation, The  1915      Drama        2.00   \n",
       "4                   20,000 Leagues Under the Sea  1916     Action        3.75   \n",
       "\n",
       "                rating tags  \n",
       "0  3.5|4.5|3.0|3.5|3.0  NaN  \n",
       "1              4.0|1.0  NaN  \n",
       "2                    4  NaN  \n",
       "3                    2  NaN  \n",
       "4              4.0|3.5  NaN  "
      ]
     },
     "execution_count": 6,
     "metadata": {},
     "output_type": "execute_result"
    }
   ],
   "source": [
    "# Loading the data\n",
    "file = pd.read_csv('Finalmoviefile.csv')\n",
    "file.head()"
   ]
  },
  {
   "cell_type": "code",
   "execution_count": 7,
   "metadata": {},
   "outputs": [
    {
     "name": "stdout",
     "output_type": "stream",
     "text": [
      "<class 'pandas.core.frame.DataFrame'>\n",
      "RangeIndex: 9724 entries, 0 to 9723\n",
      "Data columns (total 6 columns):\n",
      "title         9724 non-null object\n",
      "year          9724 non-null object\n",
      "genres        9724 non-null object\n",
      "avg rating    9724 non-null float64\n",
      "rating        9724 non-null object\n",
      "tags          1554 non-null object\n",
      "dtypes: float64(1), object(5)\n",
      "memory usage: 455.9+ KB\n"
     ]
    }
   ],
   "source": [
    "# Checking the data. \n",
    "file.info()"
   ]
  },
  {
   "cell_type": "code",
   "execution_count": 8,
   "metadata": {},
   "outputs": [
    {
     "data": {
      "text/html": [
       "<div>\n",
       "<style scoped>\n",
       "    .dataframe tbody tr th:only-of-type {\n",
       "        vertical-align: middle;\n",
       "    }\n",
       "\n",
       "    .dataframe tbody tr th {\n",
       "        vertical-align: top;\n",
       "    }\n",
       "\n",
       "    .dataframe thead th {\n",
       "        text-align: right;\n",
       "    }\n",
       "</style>\n",
       "<table border=\"1\" class=\"dataframe\">\n",
       "  <thead>\n",
       "    <tr style=\"text-align: right;\">\n",
       "      <th></th>\n",
       "      <th>avg rating</th>\n",
       "    </tr>\n",
       "  </thead>\n",
       "  <tbody>\n",
       "    <tr>\n",
       "      <th>count</th>\n",
       "      <td>9724.000000</td>\n",
       "    </tr>\n",
       "    <tr>\n",
       "      <th>mean</th>\n",
       "      <td>3.262644</td>\n",
       "    </tr>\n",
       "    <tr>\n",
       "      <th>std</th>\n",
       "      <td>0.869882</td>\n",
       "    </tr>\n",
       "    <tr>\n",
       "      <th>min</th>\n",
       "      <td>0.500000</td>\n",
       "    </tr>\n",
       "    <tr>\n",
       "      <th>25%</th>\n",
       "      <td>2.800000</td>\n",
       "    </tr>\n",
       "    <tr>\n",
       "      <th>50%</th>\n",
       "      <td>3.420000</td>\n",
       "    </tr>\n",
       "    <tr>\n",
       "      <th>75%</th>\n",
       "      <td>3.910000</td>\n",
       "    </tr>\n",
       "    <tr>\n",
       "      <th>max</th>\n",
       "      <td>5.000000</td>\n",
       "    </tr>\n",
       "  </tbody>\n",
       "</table>\n",
       "</div>"
      ],
      "text/plain": [
       "        avg rating\n",
       "count  9724.000000\n",
       "mean      3.262644\n",
       "std       0.869882\n",
       "min       0.500000\n",
       "25%       2.800000\n",
       "50%       3.420000\n",
       "75%       3.910000\n",
       "max       5.000000"
      ]
     },
     "execution_count": 8,
     "metadata": {},
     "output_type": "execute_result"
    }
   ],
   "source": [
    "# Summary of data.\n",
    "file.describe()"
   ]
  },
  {
   "cell_type": "code",
   "execution_count": null,
   "metadata": {},
   "outputs": [],
   "source": [
    "# Plotting year (x) vs. average rating (y). \n",
    "plt.scatter(file['year'], file['rating'], marker='o')\n",
    "plt.xlabel(\"year\")\n",
    "plt.ylabel(\"rating\")\n",
    "plt.show()"
   ]
  },
  {
   "cell_type": "code",
   "execution_count": null,
   "metadata": {},
   "outputs": [],
   "source": [
    "#Grouping data by category genres\n",
    "file.groupby(['genres']).count()"
   ]
  },
  {
   "cell_type": "code",
   "execution_count": null,
   "metadata": {},
   "outputs": [],
   "source": []
  }
 ],
 "metadata": {
  "kernelspec": {
   "display_name": "Python 3",
   "language": "python",
   "name": "python3"
  },
  "language_info": {
   "codemirror_mode": {
    "name": "ipython",
    "version": 3
   },
   "file_extension": ".py",
   "mimetype": "text/x-python",
   "name": "python",
   "nbconvert_exporter": "python",
   "pygments_lexer": "ipython3",
   "version": "3.7.1"
  }
 },
 "nbformat": 4,
 "nbformat_minor": 2
}
